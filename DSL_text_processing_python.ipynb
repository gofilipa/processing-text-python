{
  "cells": [
    {
      "cell_type": "markdown",
      "metadata": {
        "id": "Czh_fgjWpusv"
      },
      "source": [
        "# Text Processing with Python\n",
        "The goal of this workshop is to process, annotate, and analyze text in order to enable\n",
        "analysis and insights.\n",
        "\n",
        "To do so, we will be working with the Python programming langauge, and in particular, a package called [spaCy](https://spacy.io/), which was designed to work with text-based data. With spaCy, which is the industry standard for text-based analysis, we will extract patterns based on linguistic elements.\n",
        "\n",
        "The dataset we will use comes from from a reality TV show, Love Is Blind, which is a dating show. To get the dataset, I scraped transcripts of the show and saved them to a .json file, which we will download through a URL. From this dataset, we will ask questions about the basic plot of the show, which is a romantic plot between several characters. We will also explore less obvious elements from the narrative, using spaCy to surface things we may not have noticed before.\n",
        "\n",
        "Let's jump in!"
      ]
    },
    {
      "cell_type": "markdown",
      "metadata": {
        "id": "n7Gf4yvbp4a3"
      },
      "source": [
        "## loading our libraries and dataset"
      ]
    },
    {
      "cell_type": "code",
      "execution_count": 1,
      "metadata": {
        "id": "EAlRoLnsTTVF"
      },
      "outputs": [],
      "source": [
        "# importing our spacy and pandas libraries\n",
        "import spacy\n",
        "import pandas as pd\n",
        "\n",
        "# loading up the model in english\n",
        "nlp = spacy.load(\"en_core_web_sm\")"
      ]
    },
    {
      "cell_type": "code",
      "execution_count": 2,
      "metadata": {
        "id": "RLC06XFcTrnN"
      },
      "outputs": [],
      "source": [
        "df = pd.read_json(\"https://bit.ly/lib_transcripts\")"
      ]
    },
    {
      "cell_type": "code",
      "execution_count": 3,
      "metadata": {
        "id": "BZ2gs9JSVngi"
      },
      "outputs": [
        {
          "name": "stdout",
          "output_type": "stream",
          "text": [
            "<class 'pandas.core.frame.DataFrame'>\n",
            "RangeIndex: 39 entries, 0 to 38\n",
            "Data columns (total 4 columns):\n",
            " #   Column           Non-Null Count  Dtype \n",
            "---  ------           --------------  ----- \n",
            " 0   title            39 non-null     object\n",
            " 1   episode_info     39 non-null     object\n",
            " 2   transcript_text  39 non-null     object\n",
            " 3   url              39 non-null     object\n",
            "dtypes: object(4)\n",
            "memory usage: 1.3+ KB\n"
          ]
        }
      ],
      "source": [
        "df.info()"
      ]
    },
    {
      "cell_type": "code",
      "execution_count": 4,
      "metadata": {
        "id": "mowLHJK_VsBr"
      },
      "outputs": [
        {
          "data": {
            "text/plain": [
              "0    My physical insecurities have definitely affec...\n",
              "1    I have spent countless hours engaging with pot...\n",
              "2    Fuck. Um... Okay... I said yes to Kyle... beca...\n",
              "3    In Mexico, the couples continue taking steps t...\n",
              "4    Time winds down in Mexico, but not before a te...\n",
              "Name: transcript_text, dtype: object"
            ]
          },
          "execution_count": 4,
          "metadata": {},
          "output_type": "execute_result"
        }
      ],
      "source": [
        "# displaying columns\n",
        "\n",
        "df['transcript_text'][:5]"
      ]
    },
    {
      "cell_type": "code",
      "execution_count": 5,
      "metadata": {
        "id": "lkNCnI_nV1nj"
      },
      "outputs": [
        {
          "data": {
            "text/plain": [
              "'I have spent countless hours engaging with potential partners and, after all of that, like, I\\'ve actually found my wife. It\\'s just so crazy that we were able to do that, like, through pods. It\\'s so fricking weird. I am completely in love with Nick. He\\'s not only my fiancé, he\\'s my best friend, and I\\'m about to see him for the first time. My God. Hello. - You\\'re beautiful. - You\\'re beautiful. - I can feel your heart beating. - Really pumping there. Mine is just as much, yeah. - Seems like it\\'s been a lifetime. - Yeah, it has been. - You look so pretty. - Yeah? - I was so scared. - Why were you so scared? Why do you think? I was like, \"What if he doesn\\'t think I\\'m cute?\" Of course I think you\\'re cute. - My fiancé. - I can\\'t believe it. - I love you. - Love you too. - You say it while I can see you. - I know. I love you. Love you, too. Being able to see the face behind the voice was just amazing. He has the most beautiful blue eyes, and I have blue eyes. Our kids are gonna be gorgeous. I can\\'t wait. I\\'ll remember this moment for the rest of my life. I was nervous, so I put on teeth whiteners twice today. - Today? - Yeah. - I\\'m so awkward. - Oh my... Oh, I like the socks. - That\\'s my dog. - I figured. Oh, he\\'s cute. Yep. It\\'s your dog now too. He\\'s been looking for a mommy for a long time. - Now he\\'s finally got one. - He\\'s got one. I can\\'t believe that I fell in love with someone, and then I didn\\'t get to see them, and then when I did see them, it only made it better. - We\\'re an engaged couple. - I know. You\\'re gonna have to get used to me being like this all the time. This experience, it\\'s changed my life. I already am anticipating the wedding day. I am so confident about the relationship that we\\'re going to have, that I\\'m ready to be married to him tomorrow. I am not going to let anything get in the way of this. Can\\'t wait to just start this wonderful life we have planned. I cannot wait to go on this romantic getaway with Nick, because I think that it\\'s just going to continue to develop what we\\'ve already started developing, and I\\'m gonna get to spend every single waking second with him in Mexico, and I cannot imagine anything better than that. - Love you. - I love you. Now, I just get to work on spending the rest of my life with him. - Cheers. - It\\'s been crazy, bro. I am a believer. Let me ask you a question. Have you ever thought of growing a beard? I don\\'t grow a very good beard. You\\'re an attractive guy. Imagine with the beard? - Game over. - Ooh. As crazy as this shit sound like on the outside looking in, this shit is working. - Yeah. - And I don\\'t know how. I feel more and more certain every single time I speak with you. I definitely feel like I\\'ve known you for forever. Yeah. Isn\\'t that crazy? So, would you feel comfortable if I moved in and I wanted to change up some stuff to make it feel more like my home? Our home? I mean, long as it\\'s not, like, nothing too crazy, like, you... Not, like, pink everywhere? No. - Did we have a sex talk yet? - We haven\\'t. - Are you a very affectionate person, or... - I can be. I don\\'t have to be making out. I\\'m not a big make-outer, but... What? You don\\'t like to kiss? I\\'m not gonna lie. Like, saliva freaks me out. Is that weird? \\'Cause I think about how many enzymes are in your saliva, and how they, like, eat away at... Yo. I\\'ve never thought about any... My brain be doing the most, bro. - Oh my God. - Like, that\\'s what... Oh God. Like, just thinking about it. Uh-uh. When I think of intimacy, kissing is involved. Yes, but I don\\'t wanna be, like, making out for, like, five plus minutes. Stop laughing at me! Stop! Leave me alone. She\\'s about, \"Nah, don\\'t kiss me too long.\" \"How much time we done been kissing for? Four minutes, 37 seconds. All right.\" \"You got 30 more seconds, homie.\" It changes every day. Because yesterday I felt like Mallory and I had a really good day. And then today I feel like me and Iyanna had a really good day. So, right now, it\\'s Iyanna. Yesterday it was Mallory. It\\'s tough. Oh my God. That definitely gives me energy. I\\'m not gonna lie. Hi, Mal Mal. You\\'re so funny. Hi, JerBear. Funny story. I had a dream about you yesterday and I don\\'t know how. - Shut up. What was it about? - Yes. - We were at... - Was it dirty? No, I\\'m kidding. No. Get your mind out the gutter. - I know. Sorry, go ahead. - Maybe it was. You were getting fitted for some suit, like a business suit or whatever. Taking all the measurements. That\\'s what you were doing. - I was sitting there, watching. - I like that dream. I woke up like, \"Yo, what? How am I dreaming about somebody I\\'ve never met?\" I was like, \"What is this woman doing to me?\" For real. How the fuck is this even happening? How is this even possible that I have not seen this person, but yet I\\'m starting to develop feelings for this person? Damn. - I have a question for you. - Hmm. What kind of rings you like? You like gold or silver? I just... Man, I really love gold. I sometimes even think, if I were to get engaged, I\\'d even want the traditional gold setting and bands, so... But that\\'s just me. - I don\\'t know, that\\'s what I like. - All right, cool. If that\\'s what you want, we gonna do that. Have you thought about what life or marriage would look like between us? For sure. Bruh. If you turn me on... ...through a conversation, I\\'m not worried about anything else. - Sorry, I\\'m so awkward right now. - Don\\'t be scared now. What if you see me and I\\'m not what you pictured? I\\'ll be fine with what you look like. I\\'m not worried about that at all. Oh my God. Let me tell you. Well, sweet dreams. - Hopefully, you dream about me too. - Yeah. Hola. - What\\'s up? - What did you bring into the room? Do you have a little cocktail there right now? I made a cocktail with tequila and then I added a splash of orange juice. - Ooh. - \\'Bout to play this game with you too so... What game? I\\'m excited. - We\\'re gonna be playing Never Have I Ever. - Ooh. I really like that. - Do you? - Yeah. I bet you do. Let\\'s see. Never have I ever slept with someone of the same sex. - I have never. - Okay. I have, so, I will drink. - Oh my goodness. I didn\\'t expect that. - Yeah. But, okay. I like that. This is rated R now. No! Okay, never have I ever had sex in a public place. - Well, that\\'s a lie. I definitely have. - Really? Mm-hmm. Have you? - No, I haven\\'t. It\\'s always been... - Really? Yeah, it\\'s been behind closed doors. Some kind of doors, you know. Okay. - Never have I ever watched porn. - You\\'re chugging, right? I don\\'t know, it\\'s fun to do it with someone else. Oh my God. It\\'s... Is there AC in here? Shut your ass up. Never have I ever got a tattoo. I will drink because I have one. Where? Under my boob. Ooh. What is it of? Um, it\\'s a tree. Like the tree of life and just kind of, like, a family tree. Ooh, yes. I like that. I like that. How about you? I have to drink. Yeah. Well, dang. What do you have? Family is really big for me too. So, my siblings and I, we all decided to get tattoos. - Like, sibling tattoos. - Mm-hmm. It\\'s supposed to be, like, four little dots that represent all of us. Oh, I like that, that\\'s cute. Yeah. That\\'s the only one I have. Oh. I really like this. Yeah, this is really nice. This is fun. Yeah. I\\'m really, really enjoying this. Oh my God. What the fuck is going on? Hello? Natalie? Are you okay? Yesterday, after our conversation, I was nervous that I wouldn\\'t talk to you again. If it\\'s not you, I don\\'t think there\\'s anyone else here for me. Whatever I have to do to prove to you that I\\'m fully focused on you, I will do it. I wanna... Honestly, I just wanna hold you and hug you and make sure you\\'re okay. Hey, do you see on your cart? - What? - Do you see anything on your cart? What do you mean? Did you give me a rose? It\\'s corny and cheesy, sure, but I just wanted to let you know, like, you are a magical person. Thanks. You annoyed the fuck out of me yesterday, but... Yeah, I feel like that\\'s okay. I feel differently about you than I ever have for someone else. All I care about is making you happy and there is gonna be no more confusion. I just wanna focus on us, and that\\'s it. Really. Okay. - So, question. - Okay. Will you be my girlfriend? Yeah, of course. I couldn\\'t be happier. Me too. Did you have a date with Shayne just now? - What? - What happened? He asked me to be his girlfriend. Are those champs? Can we popsy-pops? I\\'m, like, emotionally exhausted. Natalie and me have the strongest connection, but I have feelings for Shaina too, yes. I have a romantic connection with both of them, 100%. I just need to know where they stand and how they feel about me. - We\\'re all coming out better, regardless. - 100%. - So, who\\'s your secondary wife? - Nunya. - Sorry? - Nunya business! Hello? - Hello. - Hi. - How you doing, honey? - I\\'m good, honey. You\\'re toots, not honey. - Yeah. You\\'re honey. - I know. I fucked up. - Are you in your comfy clothes? - I am. - What are you wearing? - I\\'m wearing these men\\'s... - Men\\'s? Ex-boyfriend men\\'s stuff or what? - No. Never! No, they\\'re like these men\\'s gray joggers, with a black crop top. Oh... You are so fucking hot. What\\'s going on? Why are you holding back? I just don\\'t want another failed engagement. I don\\'t wanna look stupid. You\\'re not gonna look stupid, so you don\\'t need a hundred reassurances. I just need, like, just to see that you\\'re in it. - Yeah, I told you that I care. - Fight for it, then, or something. - You know I care. Of course I like you. - Yeah. But again, I won\\'t play second fiddle to anybody. I get that, trust me. I\\'m not stupid. I know that. Shayne. What? What was the conversation today? What do you mean? - Natalie? - I... She said you asked her to be your girlfriend. Did you say those things to Natalie? I love these questions. - Did... No... - I love these questions. Well, no, she made sure that she told me that you said that. Oh my God... - I\\'m asking you a question. - I know, but I\\'m like, who cares? - I care. - Why? - \\'Cause I care. - Why do you care about that? She knows that I\\'m talking to you. Yeah, but if you have a girlfriend, that\\'s a different story. Oh my God. Whatever she says, why does it matter? Shaina? Shayne. Dude, just be honest. Yes or no? You\\'re making it way more difficult. - Yes, I did. - Okay. That\\'s all you had to say. Okay. There you go. I\\'m sorry, I guess... Is it over, then, or what? If you have a girlfriend, yeah. - That changes things, honey. - Okay. I still adore you. I hope so. Damn it. Shaina\\'s like... She\\'s a fantastic person. And I might never see her again, or talk to her again, and... Yeah, it just sucks. - Whoo! - Good luck. I\\'m not working out. I make bad diet choices. Yeah, not winning any body contests over here but, you know, it\\'s not my strong suit. - No one cares. - Yeah, you know... They don\\'t care. Shake is not shy at all. Clearly. The way he worded the physical questions were very off-putting. Made me feel really uneasy. About, like, \"I\\'m looking for a petite girl who I can put on my shoulders at a festival.\" I\\'m just like, \"The way you\\'re wording that is not good.\" \"Don\\'t ask the question like that.\" - First of all, it shouldn\\'t matter at all. - Is he the vet? Yeah, he\\'s the vet. Yeah. That\\'s why I was telling you, I was like, \"Ooh. We\\'d be a Dr. and Mrs.\" Shake places importance on the physical appearance, but we both have such similar mindsets and I\\'ve never met anybody else who\\'s kind of gone through the same life experiences. And I think that\\'s really what bonds us. - We got it. - We got this. I\\'ve never dated an Indian guy before, but I\\'m here to find that person that makes me complete. How are you? - Good. You sound cheerful. - I\\'m always cheerful. You always are. I like that about you. - Yeah? Thank you. - Yeah. You\\'re this bubbly little woman. I know that, like, we connect. - Yeah. - But... did I ever tell you that I lost a ton of weight? No. Um... Like, close to, like, you know, 70, 80 pounds, probably. Wow. How the hell am I the one who\\'s, like, asking girls their, you know... Like, these kind of superficial questions... Mm-hmm. And, like, nobody else is? Yeah. And then I kind of felt kind of ashamed, embarrassed that I did. And I\\'m like, \"Wow, this is the experiment where you\\'re not supposed to even, like, think about that stuff.\" And I\\'m like, \"How am I thinking about that the way I am?\" Just ironic. - I was really chubby growing up, actually. - Really? Yeah. I think I\\'ve had a lot of body image issues for myself. Because I was out of shape growing up and I was always kind of uncomfortable, I kind of would compensate by being with somebody in good shape. I... I\\'m, like... I\\'m, like... kind of looking at it objectively now, probably as a result of this experience, and it\\'s like, is this a reflection of my own body issues? You know what I mean? It kind of is \\'cause, like, everybody has their demons and... maybe I had more demons in this department than I thought. Yeah. Oh my gosh, I\\'m so glad you shared that with me and, like, I just love that you\\'re being so vulnerable. It makes me so happy. You\\'re so confident and you\\'re so strong and, like, the way you handled it was really impressive. Aww... I think it\\'s so sweet that you said that I was confident in all these, but I really wasn\\'t feeling that and I had to take a step back and kind of regroup and kind of, like, do my self-talk, \\'cause I\\'m not always the most confident. I had a lot of issues with self-esteem and, you know, feeling like I wasn\\'t worth it or all those things, you know what I mean? Yeah. Yeah. I know. Yeah. I think the potential that we have here is, like, really great. And I totally see a future with you and, like, I was just waiting to see this vulnerable side to you. I think, you know, I think things might really work out with us. Yeah. I really do. Aww... That just gave me butterflies. Hello. Well, well, well. - What are you wearing? - What am I wearing? That was a genuine laugh over there. I did care for Shayne. But Natalie, she came out very strong with her feelings for Shayne. She was claiming her territory. So, my pride got in the way of if he had that connection with another woman, why would I want to put myself out there? And right now, Kyle\\'s giving me affirmation. I love that he, right away, like, he knew it was me that he wanted. What woman doesn\\'t want a man to know right away? So effortless talking to you. Like, you gave me the chills right now. - I did? - Yeah. - Why? - I don\\'t know. I just had such a good feeling. I\\'m trying. That\\'s why I\\'m drawn to you, because you literally pull shit right out of my mouth. Don\\'t get me wrong. I obviously am drawn to you... Stop. You\\'re making me nervous. ...but I\\'m, like, vetting you. Huh. Well, you\\'re an intellectual, clearly. You\\'re very intelligent. Thanks. So are you. You never went to school? No. I love that. I didn\\'t go to college either. - Really? - No. - I think college is a waste of money. - Yeah, I agree. It wasn\\'t worth it for me. I love your mind. It\\'s... It\\'s... Yeah, it\\'s a little com... Pretty complex. - It is very complex. - Thanks. It\\'s scary a little bit. Do you have faith? Are you anti-faith? Would you go to church with me on Sundays? My mom grew up religious. They grew up Catholic. Okay. Faith is definitely important to me. Definitely how I was raised and how I go through life is, like, being raised, Christian. Now, I\\'m not religious at all. Um... So, like... I\\'m, like, trying to be calm. - Do you... Are you atheist? - Yeah. Oh. I know. However you\\'re feeling, I can understand. - You do? - Yeah. We need to talk about it. Oh. - Let\\'s say we get married. - Okay. - What if we have babies, right? - Okay. Little Kylie\\'s running around. And they\\'re at the dinner table. Okay? - And you say, \"Let\\'s say grace.\" - Yes. I\\'ll try and fart or burp and say, \"Who\\'s Grace?\" No! See? That\\'s a question I need to ask you. You\\'re asking me if I\\'m okay with you instilling the religion into our children? - Yeah. - That\\'s fine. - But, like, what about for you? - The kids will get to decide like I did. I want to know why you\\'re an atheist. I just believe science. God is science. But the science doesn\\'t check out. Says who? Says a lot of people. I am resistant to brainwashing. I think you are brainwashed. - I could argue the same. - Not really. You think we are accidentally here. - It\\'s not an accident. - Exactly. No, look, it\\'s literally, like... - So, you believe the Big Bang Theory? - Yeah. It\\'s explained. It makes sense. - No, it doesn\\'t... It makes no sense. - So, you don\\'t believe in evolution? - I do not believe in it at all. - Stop it. - I do not. - That\\'s so fucked up. - Oh my God. Kyle... - There\\'s some guy who wrote a book. - Some guy? - Yeah, wrote the Bible. Have you ever read it? - I\\'ve read parts of it and I am... - So, exactly. Every atheist has said that and until you read it, you can\\'t say anything about it. - You\\'ll never change my mind. - I\\'m not trying to. I know, but I\\'m also not gonna, like, understand that. - I\\'ll pray for you. - I... Shaina has extreme views on religion, and I have extreme views on religion. Deep down inside, I knew it was too good to be true. - Ouch. I could definitely fall in love with Shaina. But, like, we are such polar opposites. And I don\\'t think either of us are gonna change each other. And it scares me. Maybe I was floating away a little bit, and I was just grounded. Yeah. Honestly, really being here just... It really made me question, did I know the people that I was with before? Like, how was I in relationships? Was it real love? I\\'ll be very honest, for my situation, - I have not gone for a girl... - Yeah. ...like Deeps, but I feel really fucking good about it. I\\'m beyond words how excited I am about finding someone like Deeps. So, do you see yourself having kids? Like, how many kids do you want? I definitely don\\'t want just one. I want as many as I can afford. Yeah. Yeah, that\\'s a good way to put it. This is definitely my first time feeling this particular way about someone. Without a doubt, I have never felt so close, so deep, so strong, so quickly. Even in some of the Indian traditions, like touching the man\\'s feet when I get married. - Like, fuck that. - I am right there with you. I\\'ve come a long way, getting past superficial motivations for things and working through my insecurities. I love being a vet, I hate the lifestyle of a vet. So, owning your own practice, you\\'d have to be able to be flexible. Not for a little while. I like to be financially independent completely... Me, too. We\\'re gonna have some smart, awesome kids. I just know it. Aww... Deepti is like a puzzle piece that fits. She fits in a way nobody else has ever fit. - Hello. - Hey. - Hi. - How\\'s it goin\\'? - Good, how are you? - I\\'m good. I wanted to just say something from the heart here. So, when coincidence seems too convenient, I prefer to call that fate. And I\\'ve never met someone who seems to understand me the way you do. Our stories are so similar and they\\'ve already begun to intertwine. You make me feel some type of way. I\\'m gonna ask you to approach the wall here. - Oh, I wish I could feel you. - I know. I wish the same thing. So, I\\'m gonna get down on one knee. And, Deepti, will you make me the luckiest man in the world and marry me? Oh my gosh. Abi. I never thought that I would meet someone like you and... Oh, man, I feel like fate has just gravitated us towards each other, and a thousand times yes! - Yes! - Yes, yes! - Yes! All right! - I wish I could hug you right now. - I know. Oh my gosh, and then some. - Abi, can\\'t wait to see you. Wow, that feels amazing. Whoo. - We\\'re engaged! - We\\'re engaged. - We\\'re fucking engaged. - I can\\'t believe it. Ah! - Rest of our lives, baby. - Rest of our lives. - Oh my God. I just got goosebumps. - Ah! I\\'m so excited! Bye. - I\\'m engaged! - Yeah! Congratulations, hon! Thank you! Thank you! Thanks. - Really? - That is... So, I think if we\\'re going to get married at the end of this, I want you to know everything. Yeah. So, do... do you think there\\'s, like, one thing that would be, like, the complete deal breaker in a marriage? Like, \"Nah, this happened? This divorce is inevitable.\" For me, it\\'s cheating. And I mean, like, any form of cheating. Like emotional cheating, or like, physically cheating. So, do you... Do you think you have any... any traumas that you\\'re still, like, working through? So, I was sexually assaulted when I was 17. - Hmm. - Like, my heart is healed. It\\'s just, like, sometimes my body remembers. I mean, it can be difficult. Like, I\\'m very, very, very selective on who I allow to get very, very close to me. - Yeah. - I can make quick acquaintances, very... Like, that\\'s fine. But when it comes down to it, like, who am I investing my time with? - Mm-hmm. - And it\\'s not that many people, because I\\'m just very, very selective. Mm-hmm. You are one resilient person. It doesn\\'t feel fresh, but, um, there\\'s still some, like, lingering... um, things that... I don\\'t know, make me, I guess, like, have reflexes. \\'Cause, I mean, I already struggle with trust in general and strangely enough, like, I feel like I trust you enough. I mean, I do trust... I understand you, like, extremely well. - That\\'s huge. - Yeah. It is big. Listen, outside of my family and my close friends, like... no one... no one knows this. - Mm-hmm. - Um... A year ago... - Almost lost my life. - What? I had an issue with someone who I thought was a really close friend of mine. There\\'d been friction between us for... for quite some time. We... We had had, like, an issue. I never saw the knife in his hand. I was stabbed. Oh my God. Yeah. I end up passing out. That\\'s... that\\'s all I remember. I woke up the next morning and have all these fucking tubes down my nose. Didn\\'t even know that I was gonna make it. Probably one of the lowest points of my life. Oh my God. - Jesus. - Right. I haven\\'t had anybody there to go through this with. I\\'m so sorry you went through that. That\\'s a lot. Dang, Jarrette. I\\'m so sorry. So, everything happens for a reason. That\\'s how I gotta look at it. Yeah. Honestly, it feels nice to open up to you. And then for you to receive it so well, it feels nice. I don\\'t think I have anything else to think about anymore. I think it\\'s you. Whoo. I\\'ve made connections with you and Mallory. And it\\'s just, my brain is flustered. I\\'ve literally been going back and forth every day. Good luck, gents. All right, fellas. Enjoy yourself. Make me proud. We\\'ve been having such deep conversations, I kind of bypassed all the basic shit. - What do you mean? - What you do for work? I\\'m the communications manager for a non-profit. This is the first time I\\'ve heard that. I didn\\'t ask this. Really? Maybe we didn\\'t talk about this. And what about you? - So, I wear a couple hats. - Okay. So, my full-time job is I\\'m a healthcare consultant, and on the side, some of my entrepreneurial things I do, I cut hair. So, part-time barber. Couple friends of mine, we buy and resell sneakers. And then I just started my own mobile hookah business. Wow, I like that. So, you\\'re a hustler for sure. Yeah. I have a very big entrepreneurial mind. So, I want myself and my wife to dive into that. - Like, let\\'s own property. - Yeah. I want to make sure our kids are fine when they go to college, grow up. That works. Yeah. It\\'s so important to me. I really love that about you. I don\\'t know if I mentioned this, but I\\'m also a homeowner. Oh. Yes, I do. I own a two flat. - Hey, okay. - Yeah. It\\'s my investments. What do you think that would look like with your husband? I wanna be with somebody who is, like, a partner in all that, right? We can decide, do we want to live in your condo, or do we want to live in my house? Or do we want to rent both out and get something else? - I do have a dog. So... - What kind of dog you got? I got a German Shepherd. - I fucking love German Shepherds. - Do you? She\\'s a huge baby. She\\'s two and a half years old. - You be snuggling with her? - Oh my God. Yeah. She\\'s very cuddly. Are you a big cuddler? I\\'m definitely a cuddler for sure. I like to cuddle. Um... Feel like I haven\\'t done it in a really long time. Mm-hmm. You wanna cuddle with me? You sound like you\\'d be a good cuddler. Well, good night. Sweet dreams, JerBear. - Yeah, I need... - Pretend I\\'m a lady and you\\'re trying to... Oh, yeah, bro. I have good connections with both Sal and Jarrette, but I definitely feel like Jarrette is a little bit more vocal about, like, seeing me in marriage. But I want to stay open because I know that he\\'s talking to other people. He\\'s talking to other people, so is Sal. I think it\\'s important to try to explore every conversation, every option. It\\'s just a lot of time to sit with my feelings and my thoughts. And it\\'s scary, and I\\'m scared. So... I\\'m emotional. Um... So, yeah. Mal, how you feeling? I\\'m feeling good. I\\'m feeling really good. Yeah. I\\'ve thought about you a lot. It\\'s just really interesting. Yeah, or just finding myself, like, thinking about you, you know, like, throughout the day. Obviously, you know, I really like you and... Yeah. And getting to know you has been very exciting. It was so fast, but so slow at the same time. - Yeah. - You know? It\\'s... - Mm-hmm. - I know it\\'s a lot. Mm-hmm. You know, it\\'s, like, the rational part of me and my brain is like, \"What the fuck are you doing?\" - Like, this is crazy. - Mmm. But, I think maybe for the first time I\\'m not listening to that. Yeah. This whole experience has definitely made me feel like I\\'ve dated the wrong way my whole life. This has changed me a lot, and made me a better man. I really do feel like I\\'m falling for you. And that\\'s what I feel has been the scariest thing. You make me want to take that risk with you. Mm-hmm. So, I did prepare something. It\\'s super cheesy. Oh. Okay. You ready for this? I\\'m ready. Oh my God. You\\'re so cute! That was so good. I am so red. I cannot... Oh man... That was, like, the nicest thing... ...anyone\\'s ever done for me. Oh my God, you\\'re so cute. I think in the past I\\'ve always been trying to run away from my culture. I honestly think that in my prior ways I would\\'ve passed over an opportunity to connect with a girl like Deepti. As soon as I see her, it\\'s gonna be two hands. Boom. I already let her know. From here on out, she\\'s within a two-mile radius from me, that booty is not safe. I think Shake does place importance on appearance and physical aspects because, you know, to connect physically is important to him, but eliminating the physical piece of it has created such a bond and such a foundational stability for us. He\\'s actually this really sweet, articulate, sensitive, and fun, outgoing person. I just think he\\'s just a beautiful person inside out and I can\\'t wait to spend the rest of my life with him. I\\'ve learned physical attraction isn\\'t the biggest thing. My test for if I can date a girl or not, which is, if I can put her on my shoulders at a music festival, then she\\'s within a physical range that I would date, which, you know, looking back at, is such a superficial thing. And I think I put on a front and try to be cool or try to be edgy. All kinds of things that I use to protect myself. I\\'m very fortunate to have been a part of this experiment and I think I landed an incredible woman because of it. I think that Shake would not have gone for me if we were in the real world. I think Shake definitely wants the most attractive woman in the room, kind of. And so, I don\\'t know, I\\'m just waiting to see what his initial reaction is, what his facial expressions are. When I touch him, I hope, you know, I feel that spark and, you know, that he feels it back. I hope that he sees that we can build a life together, even though I don\\'t look like the typical girl he would go for. I hope he likes me. And I\\'m terrified. I\\'d say I\\'m definitely terrified. - Holy shit. - Hi. Oh my God. Oh my God. - Oh my God. - Hi! Oh my God. Oh my God. You\\'re so beautiful. Holy shit. - Hi! - Look at that booty. Oh my God. You\\'re perfect. - Hi! - You\\'re gonna be my fucking wife. You\\'re gonna be my husband. Oh my God. He was just like... Just so surprised to see me. I don\\'t think he expected me to look the way I looked. He went straight for the ass. Um, which I love. Oh my God. - I have something for you. - Yeah? Mm-hmm. - You did not just do that. - I\\'d do it for you. In the Indian culture, when you get married, the wife touches the husband\\'s feet, and I told him I\\'m not doing that because we\\'re equals. And so the fact that he touched my feet was perfect. He\\'s perfect. Oh my gosh. Oh my gosh. It\\'s stunning. All right. Here you go. Wow. - How\\'s it look? - It looks stunning. You look stunning. It\\'s crazy. I can\\'t believe I have a ring on my finger. Like... I\\'ve wanted this my whole life. I\\'m so happy. I\\'m so happy. Oh, I can\\'t believe I waited 30 whole years to find my person. Holy shit. You are so handsome. Little puppy dog. Well... You\\'re so cute! Come here. Even though I\\'ve dated so many blonde girls and... and white girls in the past, Deeps is just perfect. Deepti is one of the best things to ever happen to me. I hope I\\'m gonna make her as happy as she deserves to be. That\\'s what I\\'m nervous about. Honestly, like, you\\'re everything that I would want. I mean it. It just gave me butterflies. - We\\'re gonna have so much fun. - Mm-hmm. And I\\'m gonna get you pregnant. - Get outta here. - All right. Here, take that. - I\\'ll see you soon. - Okay. Whoo. I\\'m all right with that. In the past, I\\'ve been way too harsh on people, been way too stubborn. But going through this, I realize that the ultimate goal is who can I be the happiest with? Shaina puts up with my strong personality. She knows how to make me happy, and whenever I hear her voice, she just, like, lifts my spirits. Am I gonna throw away an amazing woman because we disagree on religion? I\\'ve never had that dilemma, but my head has never been more clear. Hello. Good morning, beautiful. Oh my God. How are you? Um... I\\'m okay. How are you? I\\'m... I\\'m feeling amazing. - You are? - How are you feeling? Um, I\\'m good. I... have some questions. Okay. Our differences, like, the clear differences... Yeah. - Like, our core values. - Yeah. Does that, like, scare you? Like... I think that, at this stage of my life, I can\\'t. I\\'ll never find that perfect person where everything aligns so perfectly. But our big things? They don\\'t change how much love I have for you. Does it scare you? There\\'s a part of me that does feel right. - Yeah. - And then, I\\'m like, \"Will we combust?\" We have to risk it, honey. - Right. - Because I don\\'t wanna have regrets. - Do you see the box? - I do. Oh my God. - Are you holding it? - Do you want me to hold it? - I want you to, yeah. - Okay. You\\'re holding my mother\\'s engagement ring. You remind me so much of my mother. She was very, very religious, and she makes me the happiest. I want someone who resembles her. So... Shaina... Can you open your box, please? Oh my God. Will you marry me? Yes. Oh my God. I\\'m dying to just grab your face and kiss you. - Do you know how much a kiss means? - Everything. Yeah, it\\'s the best feeling in the world to kiss somebody that you love. I\\'m kind of in shock right now. I know, and I didn\\'t expect to ever pull that out. I brought it with anticipation that maybe I would find somebody, and you are the perfect person for it. I\\'m in shock. I haven\\'t put it on yet. Are you excited to see me? I\\'m so excited to see you. Oh my God. I\\'ll see you. Okay. Goodbye, beautiful. I just need, like, a second. So, why... So, why are you crying? I guess it\\'s just the idea of, like, being engaged again, and, um... I just don\\'t want to make, like, another mistake. I care about Kyle a lot, but there\\'s issues. Huge things that we both... do not see eye-to-eye on. Sorry. It\\'s terrifying. I made my past mistakes in not having integrity and staying true to myself. And I... Am I making that same mistake? I don\\'t know. Joey, give me a pump-up speech. I want you, the quietest one. - Shayne, you\\'re gonna do great, buddy. - Okay. That\\'s it? Yeah. God, you are bad. You will never be my best man at my wedding. - All right. Cheers, boys. - Cheers, boys. This whole experiment\\'s been crazy, but, like, somehow it works. I developed strong feelings for two people. I had deep, deep feelings for Shaina, but Shaina was always hesitant. I mean, she never really actually told me how she felt. Natalie asserted herself, and she just made me feel so safe and secure, and that\\'s what I wanted. Shayne, I just need to let you know you\\'re my favorite. Oh. When I first met Natalie, we had the most smoothest conversation. We laugh constantly with each other, but we can also get to a deeper connection as well. - Tell me about your family. - My mom is, like, my best friend. Um... So, we... I FaceTime her all the time. I love that you have a really close relationship with your mom. And you definitely make me feel comfortable. She makes me feel excited. Honestly, it\\'s that euphoria you feel from someone when it\\'s, like, she just gives you butterflies. And I always said, when you know, you kind of know. You just have that feeling. It\\'s wild. - Yes! - You got it? Yes! Oh my God. This is so exciting. - There we go. Perfect. - I\\'m so happy. - I can\\'t believe you made this happen. - Honey, I will make everything hap... Whatever you want to happen, I will make it happen. I\\'ve brought one girl home to my mom in my entire life. - Oh, really? - Yes. I\\'ve talked to you and gotten such deeper, like, connections with you in these, what, seven days, than I talked to her for six months. It\\'s been such a short period of time, but I feel like I\\'ve known her forever. I mean, I\\'m riding so high on her and I\\'m ready to propose to this woman, 100%. It\\'s crazy to think. - Hello. - Hi. Hi. You know, so, I\\'m trying to think of all of my thoughts and emotions about how I feel, and when I think about this whole experience, it\\'s like... This is exactly how I feel like we were supposed to meet. Are you okay? I\\'m good. Um... So... Is it Shaina? Yeah. I\\'m just... Would love for you to hear me out real quick. Okay. Um... Okay. I just wanted you to know that I do have deep feelings for you. What the fuck. Fuck.'"
            ]
          },
          "execution_count": 5,
          "metadata": {},
          "output_type": "execute_result"
        }
      ],
      "source": [
        "df['transcript_text'][1]"
      ]
    },
    {
      "cell_type": "markdown",
      "metadata": {
        "id": "qjtLosKzXPdF"
      },
      "source": [
        "## exploring linguistic annotations"
      ]
    },
    {
      "cell_type": "code",
      "execution_count": 6,
      "metadata": {
        "id": "mA06mFdOXfi7"
      },
      "outputs": [],
      "source": [
        "doc = nlp(df['transcript_text'][1])"
      ]
    },
    {
      "cell_type": "code",
      "execution_count": 7,
      "metadata": {
        "id": "den_GLCBX2_B"
      },
      "outputs": [],
      "source": [
        "## commenting out this line because output is too long\n",
        "\n",
        "# doc"
      ]
    },
    {
      "cell_type": "markdown",
      "metadata": {
        "id": "qGSrDYUK74ZT"
      },
      "source": [
        "We will use list slicing to explore sections (slices) of our dataset"
      ]
    },
    {
      "cell_type": "code",
      "execution_count": 8,
      "metadata": {
        "id": "lqFnICfFX3Cm"
      },
      "outputs": [
        {
          "data": {
            "text/plain": [
              "I have spent countless hours engaging with potential partners and"
            ]
          },
          "execution_count": 8,
          "metadata": {},
          "output_type": "execute_result"
        }
      ],
      "source": [
        "# how do we create slices? let's see the first 10 words in our doc.\n",
        "\n",
        "doc[:10]"
      ]
    },
    {
      "cell_type": "code",
      "execution_count": 9,
      "metadata": {
        "id": "FooUO371X3Gh"
      },
      "outputs": [
        {
          "data": {
            "text/plain": [
              "I have spent countless hours engaging with potential partners and, after all of that, like, I've actually found my wife. It's just so crazy that we were able to do that, like, through pods. It's so fricking weird. I am completely in love with Nick. He's not only my fiancé, he's my best friend, and I'm about to see him for the first time. My God. Hello. - You're beautiful. - You're beautiful. - I can"
            ]
          },
          "execution_count": 9,
          "metadata": {},
          "output_type": "execute_result"
        }
      ],
      "source": [
        "# practice creating slices of random bits of text\n",
        "\n",
        "doc[:100]"
      ]
    },
    {
      "cell_type": "code",
      "execution_count": 10,
      "metadata": {
        "id": "-gnBVTLlY6VU"
      },
      "outputs": [
        {
          "data": {
            "text/plain": [
              "- I'm so awkward. - Oh my... Oh, I like the socks. - That's my dog. - I figured. Oh, he's cute. Yep. It's your dog now too. He's been looking for a mommy for"
            ]
          },
          "execution_count": 10,
          "metadata": {},
          "output_type": "execute_result"
        }
      ],
      "source": [
        "doc[300:350]"
      ]
    },
    {
      "cell_type": "code",
      "execution_count": 11,
      "metadata": {
        "id": "5IAbdkSVZFub"
      },
      "outputs": [
        {
          "data": {
            "text/plain": [
              "to think of all of my thoughts and emotions about how I feel, and when I think about this whole experience, it's like... This is exactly how I feel like we were supposed to meet. Are you okay? I'm good. Um... So... Is it Shaina? Yeah. I'm just... Would love for you to hear me out real quick. Okay. Um... Okay. I just wanted you to know that I do have deep feelings for you. What the fuck. Fuck."
            ]
          },
          "execution_count": 11,
          "metadata": {},
          "output_type": "execute_result"
        }
      ],
      "source": [
        "doc[-100:]"
      ]
    },
    {
      "cell_type": "code",
      "execution_count": 12,
      "metadata": {
        "id": "5lq6uf1RY6bI"
      },
      "outputs": [
        {
          "data": {
            "text/plain": [
              "8885"
            ]
          },
          "execution_count": 12,
          "metadata": {},
          "output_type": "execute_result"
        }
      ],
      "source": [
        "len(doc)"
      ]
    },
    {
      "cell_type": "markdown",
      "metadata": {
        "id": "ougeOfQI7-Pe"
      },
      "source": [
        "We use loops to iterate through our dataset and pull out individual words. In this case, we are pulling out not only the word, called `token`, but also its attributes. Read more about tokens and their attributes on the [spaCy docs](https://spacy.io/api/token#attributes)."
      ]
    },
    {
      "cell_type": "code",
      "execution_count": 13,
      "metadata": {
        "id": "2WcX1yLtZBlj"
      },
      "outputs": [
        {
          "name": "stdout",
          "output_type": "stream",
          "text": [
            "I\n",
            "I\n",
            "have\n",
            "have\n",
            "spent\n",
            "spend\n",
            "countless\n",
            "countless\n",
            "hours\n",
            "hour\n"
          ]
        }
      ],
      "source": [
        "# writing loops to pull out data\n",
        "\n",
        "for i in doc[:5]:\n",
        "  print(i.text)\n",
        "  print(i.lemma_) # why would you want to pull out the lemma?"
      ]
    },
    {
      "cell_type": "code",
      "execution_count": 14,
      "metadata": {
        "id": "dXjei2CraFs2"
      },
      "outputs": [
        {
          "name": "stdout",
          "output_type": "stream",
          "text": [
            "I PRON\n",
            "have AUX\n",
            "spent VERB\n",
            "countless ADJ\n",
            "hours NOUN\n"
          ]
        }
      ],
      "source": [
        "# part of speech\n",
        "\n",
        "for i in doc[:5]:\n",
        "  print(i.text, i.pos_)"
      ]
    },
    {
      "cell_type": "code",
      "execution_count": 15,
      "metadata": {
        "id": "BvG8DxRFZBr2"
      },
      "outputs": [
        {
          "name": "stdout",
          "output_type": "stream",
          "text": [
            "I PRON X True True\n",
            "have AUX xxxx True True\n",
            "spent VERB xxxx True False\n",
            "countless ADJ xxxx True False\n",
            "hours NOUN xxxx True False\n"
          ]
        }
      ],
      "source": [
        "# other useful properties\n",
        "\n",
        "for i in doc[:5]:\n",
        "  print(i.text, i.pos_, i.shape_, i.is_alpha, i.is_stop)"
      ]
    },
    {
      "cell_type": "code",
      "execution_count": 16,
      "metadata": {
        "id": "tjfJuBP1cZmw"
      },
      "outputs": [
        {
          "name": "stdout",
          "output_type": "stream",
          "text": [
            "hours\n",
            "partners\n",
            "wife\n",
            "pods\n",
            "love\n",
            "fiancé\n",
            "friend\n",
            "time\n"
          ]
        }
      ],
      "source": [
        "# filtering:\n",
        "# using conditional statement to print out nouns\n",
        "\n",
        "for i in doc[:100]:\n",
        "  if i.pos_ == \"NOUN\":\n",
        "    print(i)"
      ]
    },
    {
      "cell_type": "code",
      "execution_count": 17,
      "metadata": {
        "id": "yDDQLdH3rYzL"
      },
      "outputs": [
        {
          "name": "stdout",
          "output_type": "stream",
          "text": [
            "spent\n",
            "engaging\n",
            "found\n",
            "do\n",
            "see\n"
          ]
        }
      ],
      "source": [
        "# filtering:\n",
        "# using conditional statement to print out verbs\n",
        "\n",
        "for i in doc[:100]:\n",
        "  if i.pos_ == \"VERB\":\n",
        "    print(i)"
      ]
    },
    {
      "cell_type": "code",
      "execution_count": 18,
      "metadata": {
        "id": "CqVpY_DBZByZ"
      },
      "outputs": [],
      "source": [
        "# see the docs object is quite complex, filled with annotations!"
      ]
    },
    {
      "cell_type": "markdown",
      "metadata": {
        "id": "_3mKrQP5oG-7"
      },
      "source": [
        "## pulling out phrases"
      ]
    },
    {
      "cell_type": "code",
      "execution_count": 19,
      "metadata": {
        "id": "q29hR_-iFxg9"
      },
      "outputs": [
        {
          "name": "stdout",
          "output_type": "stream",
          "text": [
            "I\n",
            "countless hours\n",
            "potential partners\n",
            "all\n",
            "that\n",
            "I\n"
          ]
        }
      ],
      "source": [
        "# noun chunks with spacy\n",
        "\n",
        "for chunk in doc[:20].noun_chunks:\n",
        "  print(chunk)"
      ]
    },
    {
      "cell_type": "code",
      "execution_count": 20,
      "metadata": {
        "id": "KEYYq6vdZB__"
      },
      "outputs": [
        {
          "name": "stdout",
          "output_type": "stream",
          "text": [
            "I have spent countless hours engaging with potential partners and, after all of that, like, I've actually found my wife.\n",
            "It's just so crazy that we were able to do that, like, through pods.\n",
            "It's so fricking weird.\n",
            "I am completely in love with Nick.\n",
            "He's not only my fiancé, he's my best friend, and I'm about to see him for the first time.\n",
            "My God.\n",
            "Hello.\n",
            "- You're beautiful.\n",
            "- You're beautiful.\n",
            "- I can feel your heart beating.\n"
          ]
        }
      ],
      "source": [
        "for i in doc[:100].sents:\n",
        "  print(i)"
      ]
    },
    {
      "cell_type": "markdown",
      "metadata": {
        "id": "0jEDDErprqSB"
      },
      "source": [
        "## pulling out entities"
      ]
    },
    {
      "cell_type": "code",
      "execution_count": 21,
      "metadata": {
        "id": "qSlt9c40I4iB"
      },
      "outputs": [
        {
          "data": {
            "text/plain": [
              "[Nick,\n",
              " first,\n",
              " today,\n",
              " the wedding day,\n",
              " tomorrow,\n",
              " Nick,\n",
              " second,\n",
              " Mexico,\n",
              " Yo,\n",
              " five plus minutes,\n",
              " Nah,\n",
              " Four minutes, 37 seconds,\n",
              " 30 more seconds,\n",
              " homie,\n",
              " yesterday]"
            ]
          },
          "execution_count": 21,
          "metadata": {},
          "output_type": "execute_result"
        }
      ],
      "source": [
        "doc[:1000].ents"
      ]
    },
    {
      "cell_type": "code",
      "execution_count": 22,
      "metadata": {
        "id": "blV_D8UKI0NU"
      },
      "outputs": [
        {
          "name": "stdout",
          "output_type": "stream",
          "text": [
            "Nick GPE\n",
            "first ORDINAL\n",
            "today DATE\n",
            "the wedding day DATE\n",
            "tomorrow DATE\n",
            "Nick GPE\n",
            "second ORDINAL\n",
            "Mexico GPE\n",
            "Yo PERSON\n",
            "five plus minutes TIME\n",
            "Nah PERSON\n",
            "Four minutes, 37 seconds TIME\n",
            "30 more seconds TIME\n",
            "homie PERSON\n",
            "yesterday DATE\n"
          ]
        }
      ],
      "source": [
        "# pull out entities\n",
        "\n",
        "for i in doc[:1000].ents:\n",
        "  print(i, i.label_)"
      ]
    },
    {
      "cell_type": "markdown",
      "metadata": {
        "id": "JRd448jwK9RP"
      },
      "source": [
        "## expanding from doc to docs\n",
        "Now we will expand to all 13 episodes from the second season of the show. Then, we will be able to explore what happens episode by episode."
      ]
    },
    {
      "cell_type": "code",
      "execution_count": 23,
      "metadata": {
        "id": "3r-DL5GgZCHM"
      },
      "outputs": [],
      "source": [
        "# we are going to make a new doc based on just the second season of the show.\n",
        "\n",
        "docs = list(nlp.pipe(df['transcript_text'][0:13]))"
      ]
    },
    {
      "cell_type": "code",
      "execution_count": 24,
      "metadata": {
        "id": "7DcEfBrjXxCe"
      },
      "outputs": [
        {
          "data": {
            "text/plain": [
              "13"
            ]
          },
          "execution_count": 24,
          "metadata": {},
          "output_type": "execute_result"
        }
      ],
      "source": [
        "len(docs)"
      ]
    },
    {
      "cell_type": "markdown",
      "metadata": {
        "id": "ui-ylUW0zs4u"
      },
      "source": [
        "The syntax in our loop is going to change. Now we need to use list indexing to indicate the *episode* we want to loop through in square brackets. After that, we can indicate the slice of words."
      ]
    },
    {
      "cell_type": "code",
      "execution_count": 25,
      "metadata": {
        "id": "Y05SUsUAIjlS"
      },
      "outputs": [
        {
          "name": "stdout",
          "output_type": "stream",
          "text": [
            "last night TIME\n",
            "Danielle GPE\n",
            "This summer DATE\n",
            "this summer DATE\n",
            "Shaina GPE\n",
            "Shayne GPE\n",
            "Natalie PERSON\n",
            "Natalie PERSON\n",
            "Nick ORG\n",
            "Shaina LOC\n"
          ]
        }
      ],
      "source": [
        "# pull out entities for the first 200 words [:200] of the last episode [-1]\n",
        "\n",
        "for i in docs[-1][:200].ents:\n",
        "  print(i, i.label_)"
      ]
    },
    {
      "cell_type": "code",
      "execution_count": 26,
      "metadata": {
        "id": "CKjlp3yisAlf"
      },
      "outputs": [
        {
          "name": "stdout",
          "output_type": "stream",
          "text": [
            "Nick Lachey PERSON\n",
            "Love Is Blind WORK_OF_ART\n"
          ]
        }
      ],
      "source": [
        "# pulling out entities for the first 200 words in the first episode\n",
        "\n",
        "for i in docs[0][:200].ents:\n",
        "  print(i, i.label_)"
      ]
    },
    {
      "cell_type": "markdown",
      "metadata": {
        "id": "PxsDrC8RNRIs"
      },
      "source": [
        "Another way of doing this is to add another level to our loop. This way, we can loop through all of the episodes"
      ]
    },
    {
      "cell_type": "code",
      "execution_count": 27,
      "metadata": {
        "id": "gG5TDPtHNUqp"
      },
      "outputs": [
        {
          "name": "stdout",
          "output_type": "stream",
          "text": [
            "Nick Lachey\n",
            "Love Is Blind\n",
            "Love Is Blind\n",
            "Nick\n",
            "first\n",
            "today\n",
            "Kyle\n",
            "Kyle\n",
            "Shayne\n",
            "Mexico\n",
            "first\n",
            "first\n",
            "Mexico\n",
            "Burn Through The Dark\n",
            "John Coggins\n",
            "one\n",
            "Kyle\n",
            "Shayne\n",
            "Shaina\n",
            "Shayne\n",
            "Natalie\n",
            "Shake\n",
            "Deeps\n",
            "Shayne\n",
            "first\n",
            "another 30 years\n",
            "five\n",
            "Love\n",
            "Blind\n",
            "Nick Lachey\n",
            "season\n",
            "Nick and Vanessa\n",
            "Vanessa Lachey\n",
            "Kyle\n",
            "Jarrette\n",
            "First\n",
            "last night\n",
            "Danielle\n",
            "This summer\n"
          ]
        }
      ],
      "source": [
        "for episode in docs:\n",
        "  for word in episode.ents[:3]: # slicing it at 3 words into each episode, to avoid being too long in the notebook\n",
        "    print(word)"
      ]
    },
    {
      "cell_type": "code",
      "execution_count": 28,
      "metadata": {
        "id": "C_AuS-sLLTSV"
      },
      "outputs": [
        {
          "name": "stdout",
          "output_type": "stream",
          "text": [
            "Nick Lachey\n",
            "Kyle\n",
            "Kyle\n",
            "John Coggins\n",
            "Kyle\n",
            "Deeps\n",
            "Blind\n",
            "Nick Lachey\n",
            "Vanessa Lachey\n",
            "Kyle\n",
            "Jarrette\n"
          ]
        }
      ],
      "source": [
        "# how would I pull out entities for just characters?\n",
        "\n",
        "for episode in docs:\n",
        "  for word in episode.ents[:3]:\n",
        "    if word.label_ == \"PERSON\":\n",
        "      print(word)"
      ]
    },
    {
      "cell_type": "markdown",
      "metadata": {
        "id": "TPBbAcDIJPJC"
      },
      "source": [
        "## who are the couples? in the first 3 episodes\n",
        "Try to determine the identities of the couples that are dating each other on the show.\n",
        "\n",
        "How might you go about doing that, using spaCy's annotation capabilities? What linguistic elements would help you to assess whether or not a character is a main character?\n",
        "\n",
        "Go through the first 3 episodes, and determine who is dating whom in that episode.\n"
      ]
    },
    {
      "cell_type": "code",
      "execution_count": 29,
      "metadata": {
        "id": "pzShtaKMBPIC"
      },
      "outputs": [
        {
          "name": "stdout",
          "output_type": "stream",
          "text": [
            "Nick Lachey\n",
            "Howdy Doody\n",
            "Mom\n",
            "Jer\n",
            "Sal\n",
            "Wine Danielle\n",
            "J. Lo\n",
            "Instagram\n",
            "Latina\n",
            "Shayne\n",
            "Kyle\n",
            "Natalie\n",
            "Natalie\n",
            "Dude\n",
            "Beetlejuice\n",
            "Beetlejuice\n",
            "Shayne\n",
            "Holly\n",
            "Molly\n",
            "Molly\n",
            "Holly\n",
            "Holly\n",
            "Molly\n",
            "Nick\n",
            "Jeez\n",
            "Nick\n",
            "God\n",
            "Kyle\n",
            "Kyle\n",
            "Kyle\n",
            "Shayne\n",
            "Shaina\n",
            "Natalie\n",
            "Shayne\n",
            "Shayne\n",
            "Natalie\n",
            "ya\n",
            "Ring Pop\n",
            "Shaina\n",
            "Natalie\n",
            "Natalie\n",
            "Natalie\n",
            "Nick\n",
            "Nick\n"
          ]
        }
      ],
      "source": [
        "for word in docs[0].ents:\n",
        "  if word.label_ == \"PERSON\":\n",
        "    print(word)"
      ]
    },
    {
      "cell_type": "markdown",
      "metadata": {
        "id": "6VdFhA1eHq8v"
      },
      "source": [
        "## what happens to the couples?\n",
        "\n",
        "Now for the big question: what happens to the couples in the show? Do they stay together? Why or why not?\n",
        "\n",
        "We will use spacy's linguistic annotations to write a conditional statement that pulls out sentences relevant to our inquiry. We want a sentence like \"person loves person\", or \"person married person\", or \"person dumped person\".\n",
        "\n",
        "First, we create a list of romantic verbs, which we will use to filter sentences. For that, we can re-deploy our conditional statement above that checks for verbs."
      ]
    },
    {
      "cell_type": "code",
      "execution_count": 30,
      "metadata": {
        "id": "oRSX8-Rs1Vn-"
      },
      "outputs": [
        {
          "name": "stdout",
          "output_type": "stream",
          "text": [
            "affected\n",
            "dating\n",
            "spent\n",
            "engaging\n",
            "said\n",
            "continue\n",
            "taking\n",
            "winds\n",
            "bid\n",
            "head\n",
            "spark\n",
            "face\n",
            "Shake\n",
            "run\n",
            "takes\n",
            "heartbreaking\n",
            "decide\n",
            "gather\n",
            "vocalizing\n",
            "plays\n",
            "Look\n"
          ]
        }
      ],
      "source": [
        "for episode in docs:\n",
        "  for i in episode[:10]:\n",
        "    if i.pos_ == 'VERB':\n",
        "      print(i)"
      ]
    },
    {
      "cell_type": "markdown",
      "metadata": {
        "id": "A-PrKGtz1169"
      },
      "source": [
        "Then we write out the condition for filtering, which checks for a part of speech and if the verb is in our list."
      ]
    },
    {
      "cell_type": "code",
      "execution_count": 31,
      "metadata": {
        "id": "7ex8GPTv28uZ"
      },
      "outputs": [
        {
          "name": "stdout",
          "output_type": "stream",
          "text": [
            "My physical insecurities have definitely affected my dating life.\n",
            "My dating experience has sucked.\n",
            "I'm here because I'm looking for the one, the one who loves me for my personality, and not what I look like.\n",
            "I don't think I ever said to anyone, \"I love you,\" except my mom.\n",
            "Do you feel like the dating world nowadays has become extremely superficial?\n",
            "When I meet men on dating apps, I think they see Asian and stereotype me, thinking I'm gonna be quiet, more submissive.\n",
            "- We wanna be loved for who we are.\n",
            "...or will the real world sabotage that love, and will you walk away from that person forever?\n",
            "\"I met your dad in a social experiment, where I was dating 14 other guys.\"\n",
            "Um, I love running, I love dancing.\n",
            "Um, I love running, I love dancing.\n",
            "Sundays, I love...\n",
            "- I'm loving it for sure.\n",
            "I love them all.\n",
            "I love to punch drywall.\n",
            "I love buying clothes for girls.\n",
            "- I prefer dating younger.\n",
            "- You've never dated an Indian girl? -\n",
            "I've actually only dated white guys before.\n",
            "- I love that.\n",
            "I love music.\n",
            "There are conversations that I was having in seven minutes where I felt like I learned more about that person than some people who I maybe dated for two months.\n",
            "I think the big pivotal moment for me where I really thought, \"I want to find my one, I want to be married\" is watching my grandfather take care of my grandmother with Alzheimer's.\n",
            "I want someone who will love me regardless of the condition I am in or my weaknesses and flaws.\n",
            "I mean, like, the fact I can marry you or someone else... Hold on.\n",
            "I love the energy I get from people.\n",
            "In the dating world, the past couple of years is just...\n",
            "If I came up to you, out of the blue, and said something like, \"I love your eyes...\n",
            "I love drunk sex, hangover sex.\n",
            "I would love somebody who'd work out with me.\n",
            "I love that.\n",
            "My biggest critique of dating apps, but just dating in general, is there's this illusion of endless opportunity and endless options.\n",
            "My biggest critique of dating apps, but just dating in general, is there's this illusion of endless opportunity and endless options.\n",
            "I was dating a guy who every time he was laying next to me in bed, he'd scroll through his phone and all I'd see were girls that were, like...\n",
            "He has to trust that he'll love me for who I am because he has no idea what size I am.\n",
            "- I love how you say my name.\n",
            "- I love that about you.\n",
            "I love it.\n",
            "- Oh, I love crop tops so much.\n",
            "- Do you love a crop top?\n",
            "I love a crop top.\n",
            "Oh my God, I love it.\n",
            "- I love everything.\n",
            "- I love, like, outdoor stuff.\n",
            "I'm at this point where it's like dating two people, and I'm getting serious feelings.\n",
            "I love talking to you.\n",
            "Everyone's dating everybody, but, right now, I need Shayne to tell me what he wants.\n",
            "- Hello. - Hello. - Hi. - Hi. - I heard you proposed today, basically.\n",
            "- I love farmers markets.\n",
            "- I love them too.\n",
            "I dated someone a while back, like, five years ago, and she kind of, like, would tell me that my empathy was a weakness.\n",
            "Because, I, like, I love empathetic people.\n",
            "I love her strength to share some of her insecurities.\n",
            "And I'm asking you if you will marry me.\n",
            "- I can't wait to marry you.\n",
            "I love you.\n",
            "I love you.\n",
            "- Love you.\n",
            "- Love you too.\n",
            "Everyone wants to be loved for who they are on the inside, and I feel so grateful I was able to go through this experience, to finally find someone who truly does.\n",
            "There's no doubt that I love Nick for who he is.\n",
            "He could walk out with no teeth and I'd still go and kiss his mouth.\n"
          ]
        }
      ],
      "source": [
        "romantic_verbs = [\"love\", \"marry\", \"kiss\", \"propose\", \"date\", \"betray\"]\n",
        "\n",
        "for i in docs[0].sents:\n",
        "  for token in i:\n",
        "    if token.lemma_.lower() in romantic_verbs and token.pos_ == \"VERB\":\n",
        "      print(i)"
      ]
    },
    {
      "cell_type": "markdown",
      "metadata": {
        "id": "q0be1sfs4N0w"
      },
      "source": [
        "Now we will add a condition that checks if there's a PER entity in our sentence. Our loop looks a little unwieldy, but it works!"
      ]
    },
    {
      "cell_type": "code",
      "execution_count": 32,
      "metadata": {
        "id": "HcCiY3Hj3WAf"
      },
      "outputs": [
        {
          "name": "stdout",
          "output_type": "stream",
          "text": [
            "Just that, like, when Natalie and Shayne were still dating, that you were, like, sending him flirty DMs and stuff.\n",
            "Just that, like, when Natalie and Shayne were still dating, that you were, like, sending him flirty DMs and stuff.\n",
            "- Tell Danielle we love her.\n",
            "I do feel that way, and I do feel that way about Jessi, and I've been thinking a lot about… [sharp exhale] …like, what it would mean to propose to Jessi.\n",
            "I do feel that way, and I do feel that way about Jessi, and I've been thinking a lot about… [sharp exhale] …like, what it would mean to propose to Jessi.\n",
            "I really do love Jessi\n",
            "[chuckles] Yanni, I love you.\n",
            "At the Reunion, I told Deepti I made a huge mistake, and I didn't ask her to marry me.\n",
            "[Jarrette] I didn't prioritize everything that I needed to do when we first got married, and now it's at a point where my friends will be there.\n"
          ]
        }
      ],
      "source": [
        "romantic_verbs = {\"love\", \"marry\", \"kiss\", \"propose\", \"date\", \"betray\"}\n",
        "\n",
        "for i in docs[-1].sents:\n",
        "  for token in i:\n",
        "    if token.lemma_.lower() in romantic_verbs and token.pos_ == \"VERB\":\n",
        "      for ent in i.ents:\n",
        "        if ent.label_ == \"PERSON\":\n",
        "          print(i)"
      ]
    },
    {
      "cell_type": "markdown",
      "metadata": {
        "id": "d_WuVVV17iI_"
      },
      "source": [
        "Spend some time exploring the dataset, episode by episode, and try to figure out what happens with the couples."
      ]
    }
  ],
  "metadata": {
    "colab": {
      "collapsed_sections": [
        "_3mKrQP5oG-7",
        "0jEDDErprqSB",
        "JRd448jwK9RP"
      ],
      "provenance": []
    },
    "kernelspec": {
      "display_name": ".venv",
      "language": "python",
      "name": "python3"
    },
    "language_info": {
      "codemirror_mode": {
        "name": "ipython",
        "version": 3
      },
      "file_extension": ".py",
      "mimetype": "text/x-python",
      "name": "python",
      "nbconvert_exporter": "python",
      "pygments_lexer": "ipython3",
      "version": "3.11.11"
    }
  },
  "nbformat": 4,
  "nbformat_minor": 0
}
